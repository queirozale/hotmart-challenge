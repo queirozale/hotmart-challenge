{
 "cells": [
  {
   "cell_type": "code",
   "execution_count": 2,
   "id": "6ebf1457",
   "metadata": {},
   "outputs": [],
   "source": [
    "import getpass\n",
    "import os\n",
    "\n",
    "if not os.getenv(\"OPENAI_API_KEY\"):\n",
    "    os.environ[\"OPENAI_API_KEY\"] = getpass.getpass(\"Enter your OpenAI API key: \")\n"
   ]
  },
  {
   "cell_type": "code",
   "execution_count": 3,
   "id": "9f12695e",
   "metadata": {},
   "outputs": [],
   "source": [
    "import pandas as pd"
   ]
  },
  {
   "cell_type": "code",
   "execution_count": 4,
   "id": "3bb425f7",
   "metadata": {},
   "outputs": [],
   "source": [
    "df = pd.read_csv('articles.csv')"
   ]
  },
  {
   "cell_type": "code",
   "execution_count": 5,
   "id": "d89ff2f6",
   "metadata": {},
   "outputs": [],
   "source": [
    "df.reset_index(inplace=True)\n",
    "df.rename(columns={'index': 'article_id'}, inplace=True)"
   ]
  },
  {
   "cell_type": "code",
   "execution_count": 6,
   "id": "6adc2272",
   "metadata": {},
   "outputs": [
    {
     "data": {
      "text/plain": [
       "477"
      ]
     },
     "execution_count": 6,
     "metadata": {},
     "output_type": "execute_result"
    }
   ],
   "source": [
    "df['article_name'].nunique()"
   ]
  },
  {
   "cell_type": "code",
   "execution_count": 7,
   "id": "ea6e0a4b",
   "metadata": {},
   "outputs": [],
   "source": [
    "embeddings_model = \"text-embedding-3-large\""
   ]
  },
  {
   "cell_type": "code",
   "execution_count": 8,
   "id": "a576b1ce",
   "metadata": {},
   "outputs": [],
   "source": [
    "from langchain_openai import OpenAIEmbeddings\n",
    "\n",
    "embeddings = OpenAIEmbeddings(\n",
    "    model=\"text-embedding-3-large\",\n",
    ")"
   ]
  },
  {
   "cell_type": "code",
   "execution_count": 9,
   "id": "52d67693",
   "metadata": {},
   "outputs": [],
   "source": [
    "from langchain.docstore.document import Document"
   ]
  },
  {
   "cell_type": "code",
   "execution_count": 10,
   "id": "a469b040",
   "metadata": {},
   "outputs": [],
   "source": [
    "df[\"docs\"] = df.apply(\n",
    "    lambda x: Document(\n",
    "        page_content=x['article_name'],\n",
    "        metadata={\n",
    "            'article_id': x['article_id']\n",
    "        }\n",
    "    ),\n",
    "    axis=1,\n",
    ")"
   ]
  },
  {
   "cell_type": "code",
   "execution_count": 11,
   "id": "91ab8427",
   "metadata": {},
   "outputs": [],
   "source": [
    "from langchain.text_splitter import CharacterTextSplitter"
   ]
  },
  {
   "cell_type": "code",
   "execution_count": 12,
   "id": "c2ba34ad",
   "metadata": {},
   "outputs": [],
   "source": [
    "lst_documents = df[\"docs\"].tolist()\n",
    "\n",
    "text_splitter = CharacterTextSplitter.from_tiktoken_encoder(\n",
    "    chunk_size=500,\n",
    "    chunk_overlap=20,\n",
    ")\n",
    "\n",
    "split_docs = text_splitter.split_documents(lst_documents)"
   ]
  },
  {
   "cell_type": "code",
   "execution_count": 13,
   "id": "33f229da",
   "metadata": {},
   "outputs": [],
   "source": [
    "# ADD NORMALIZATION?"
   ]
  },
  {
   "cell_type": "code",
   "execution_count": 14,
   "id": "16d14ac6",
   "metadata": {},
   "outputs": [],
   "source": [
    "from langchain.vectorstores import FAISS\n",
    "from langchain_core.vectorstores import InMemoryVectorStore"
   ]
  },
  {
   "cell_type": "code",
   "execution_count": 15,
   "id": "8a59df28",
   "metadata": {},
   "outputs": [],
   "source": [
    "vector_store = FAISS.from_documents(\n",
    "    documents=split_docs, embedding=embeddings\n",
    ")"
   ]
  },
  {
   "cell_type": "code",
   "execution_count": 16,
   "id": "7193d479",
   "metadata": {},
   "outputs": [],
   "source": [
    "docs = vector_store.similarity_search(\"como acho um produto?\", k=10)"
   ]
  },
  {
   "cell_type": "code",
   "execution_count": 17,
   "id": "4bdb562a",
   "metadata": {},
   "outputs": [
    {
     "data": {
      "text/plain": [
       "[Document(id='d98a9085-5755-4e14-8f77-32fce1ef9987', metadata={'article_id': 380}, page_content='Como pesquisar produtos no Mercado da Hotmart?'),\n",
       " Document(id='4e9fcb87-f5b0-4524-b0e6-dc35f26ad202', metadata={'article_id': 186}, page_content='Como cadastrar meu produto?'),\n",
       " Document(id='45bb2ee2-5035-4ace-8e18-253237f6bef1', metadata={'article_id': 398}, page_content='Como acessar o produto que comprei?'),\n",
       " Document(id='2059b6bc-3580-465a-abb6-0f035b12373b', metadata={'article_id': 419}, page_content='Busca de produto Hotmart'),\n",
       " Document(id='51d7fef2-bf0d-4cf5-991d-985711f5da6e', metadata={'article_id': 59}, page_content='Como encontrar as mídias de divulgação do produto?'),\n",
       " Document(id='1715c274-331a-47a0-bc09-e477b3db0e16', metadata={'article_id': 470}, page_content='Como cadastrar um produto de evento online?'),\n",
       " Document(id='7fed1f4f-c6c1-4949-b72d-60dcec07e4da', metadata={'article_id': 308}, page_content='Como comprar um produto pela Hotmart?'),\n",
       " Document(id='44ad57df-1447-4749-9292-dbf8a03d7849', metadata={'article_id': 43}, page_content='Como posso visualizar meu produto da forma que ele aparece para os meus clientes?'),\n",
       " Document(id='b6a360c5-23a7-4f09-a423-1605570f1d65', metadata={'article_id': 317}, page_content='Tenho uma dúvida sobre o produto que quero comprar'),\n",
       " Document(id='cdc58443-d4a0-475b-8d85-aea4ac65d3a5', metadata={'article_id': 248}, page_content='Como configurar a coprodução de um produto?')]"
      ]
     },
     "execution_count": 17,
     "metadata": {},
     "output_type": "execute_result"
    }
   ],
   "source": [
    "docs"
   ]
  },
  {
   "cell_type": "code",
   "execution_count": 18,
   "id": "51a3ceb0",
   "metadata": {},
   "outputs": [
    {
     "name": "stdout",
     "output_type": "stream",
     "text": [
      "[Interrupt(value={'question': 'Do you approve the following output?', 'llm_output': 'This is the generated output.'}, resumable=True, ns=['human_approval:46adc8fe-2056-b084-a51e-12f54f55f887'])]\n"
     ]
    }
   ],
   "source": [
    "from typing import Literal, TypedDict\n",
    "import uuid\n",
    "\n",
    "from langgraph.constants import START, END\n",
    "from langgraph.graph import StateGraph\n",
    "from langgraph.types import interrupt, Command\n",
    "from langgraph.checkpoint.memory import MemorySaver\n",
    "\n",
    "# Define the shared graph state\n",
    "class State(TypedDict):\n",
    "    llm_output: str\n",
    "    decision: str\n",
    "\n",
    "# Simulate an LLM output node\n",
    "def generate_llm_output(state: State) -> State:\n",
    "    return {\"llm_output\": \"This is the generated output.\"}\n",
    "\n",
    "# Human approval node\n",
    "def human_approval(state: State) -> Command[Literal[\"approved_path\", \"rejected_path\"]]:\n",
    "    decision = interrupt({\n",
    "        \"question\": \"Do you approve the following output?\",\n",
    "        \"llm_output\": state[\"llm_output\"]\n",
    "    })\n",
    "\n",
    "    if decision == \"approve\":\n",
    "        return Command(goto=\"approved_path\", update={\"decision\": \"approved\"})\n",
    "    else:\n",
    "        return Command(goto=\"rejected_path\", update={\"decision\": \"rejected\"})\n",
    "\n",
    "# Next steps after approval\n",
    "def approved_node(state: State) -> State:\n",
    "    print(\"✅ Approved path taken.\")\n",
    "    return state\n",
    "\n",
    "# Alternative path after rejection\n",
    "def rejected_node(state: State) -> State:\n",
    "    print(\"❌ Rejected path taken.\")\n",
    "    return state\n",
    "\n",
    "# Build the graph\n",
    "builder = StateGraph(State)\n",
    "builder.add_node(\"generate_llm_output\", generate_llm_output)\n",
    "builder.add_node(\"human_approval\", human_approval)\n",
    "builder.add_node(\"approved_path\", approved_node)\n",
    "builder.add_node(\"rejected_path\", rejected_node)\n",
    "\n",
    "builder.set_entry_point(\"generate_llm_output\")\n",
    "builder.add_edge(\"generate_llm_output\", \"human_approval\")\n",
    "builder.add_edge(\"approved_path\", END)\n",
    "builder.add_edge(\"rejected_path\", END)\n",
    "\n",
    "checkpointer = MemorySaver()\n",
    "graph = builder.compile(checkpointer=checkpointer)\n",
    "\n",
    "# Run until interrupt\n",
    "config = {\"configurable\": {\"thread_id\": uuid.uuid4()}}\n",
    "result = graph.invoke({}, config=config)\n",
    "print(result[\"__interrupt__\"])\n",
    "# Output:\n",
    "# Interrupt(value={'question': 'Do you approve the following output?', 'llm_output': 'This is the generated output.'}, ...)\n",
    "\n",
    "# Simulate resuming with human input\n",
    "# To test rejection, replace resume=\"approve\" with resume=\"reject\"\n",
    "# final_result = graph.invoke(Command(resume=\"approve\"), config=config)\n",
    "# print(final_result)"
   ]
  },
  {
   "cell_type": "code",
   "execution_count": 19,
   "id": "9eb13188",
   "metadata": {},
   "outputs": [
    {
     "name": "stdout",
     "output_type": "stream",
     "text": [
      "✅ Approved path taken.\n",
      "{'llm_output': 'This is the generated output.', 'decision': 'approved'}\n"
     ]
    }
   ],
   "source": [
    "final_result = graph.invoke(Command(resume=\"approve\"), config=config)\n",
    "print(final_result)"
   ]
  },
  {
   "cell_type": "code",
   "execution_count": 20,
   "id": "518e8fec",
   "metadata": {},
   "outputs": [],
   "source": [
    "retriever = vector_store.as_retriever()"
   ]
  },
  {
   "cell_type": "code",
   "execution_count": 21,
   "id": "12735852",
   "metadata": {},
   "outputs": [],
   "source": [
    "from langchain.tools.retriever import create_retriever_tool\n",
    "\n",
    "\n",
    "retriever_tool = create_retriever_tool(\n",
    "    retriever,\n",
    "    \"retrieve_faq_articles\",\n",
    "    \"Search and return FAQ articles about Hotmart.\",\n",
    ")"
   ]
  },
  {
   "cell_type": "code",
   "execution_count": 22,
   "id": "f910a3a0",
   "metadata": {},
   "outputs": [
    {
     "data": {
      "text/plain": [
       "'Busca de produto Hotmart\\n\\nComo pesquisar produtos no Mercado da Hotmart?\\n\\nComo favoritar produtos no Mercado de Afiliação\\n\\nComo cadastrar meu produto?'"
      ]
     },
     "execution_count": 22,
     "metadata": {},
     "output_type": "execute_result"
    }
   ],
   "source": [
    "retriever_tool.invoke({\"query\": \"achar produtos\"})"
   ]
  },
  {
   "cell_type": "code",
   "execution_count": 93,
   "id": "f388aa40",
   "metadata": {},
   "outputs": [],
   "source": [
    "from langgraph.graph import MessagesState\n",
    "from langchain.chat_models import init_chat_model\n",
    "\n",
    "response_model = init_chat_model(\"openai:gpt-4.1\", temperature=0)\n",
    "\n",
    "\n",
    "def generate_query_or_respond(state: MessagesState):\n",
    "    \"\"\"Call the model to generate a response based on the current state. Given\n",
    "    the question, it will decide to retrieve using the retriever tool, or simply respond to the user.\n",
    "    \"\"\"\n",
    "    response = (\n",
    "        response_model\n",
    "        .bind_tools([retriever_tool]).invoke(state[\"messages\"])\n",
    "    )\n",
    "    return {\"messages\": [response]}"
   ]
  },
  {
   "cell_type": "code",
   "execution_count": 94,
   "id": "9a51d360",
   "metadata": {},
   "outputs": [],
   "source": [
    "from pydantic import BaseModel, Field\n",
    "from typing import Literal\n",
    "\n",
    "GRADE_PROMPT = (\n",
    "    \"You are a grader assessing relevance of a retrieved document to a user question. \\n \"\n",
    "    \"Here is the retrieved document: \\n\\n {context} \\n\\n\"\n",
    "    \"Here is the user question: {question} \\n\"\n",
    "    \"If the document contains keyword(s) or semantic meaning related to the user question, grade it as relevant. \\n\"\n",
    "    \"Give a binary score 'yes' or 'no' score to indicate whether the document is relevant to the question.\"\n",
    ")\n",
    "\n",
    "class GradeDocuments(BaseModel):\n",
    "    \"\"\"Grade documents using a binary score for relevance check.\"\"\"\n",
    "\n",
    "    binary_score: str = Field(\n",
    "        description=\"Relevance score: 'yes' if relevant, or 'no' if not relevant\"\n",
    "    )\n",
    "\n",
    "grader_model = init_chat_model(\"openai:gpt-4.1\", temperature=0)\n",
    "\n",
    "def grade_documents(\n",
    "    state: MessagesState,\n",
    ") -> Literal[\"generate_answer\", \"rewrite_question\"]:\n",
    "    \"\"\"Determine whether the retrieved documents are relevant to the question.\"\"\"\n",
    "    question = state[\"messages\"][0].content\n",
    "    context = state[\"messages\"][-1].content\n",
    "\n",
    "    prompt = GRADE_PROMPT.format(question=question, context=context)\n",
    "    response = (\n",
    "        grader_model\n",
    "        .with_structured_output(GradeDocuments).invoke(\n",
    "            [{\"role\": \"user\", \"content\": prompt}]\n",
    "        )\n",
    "    )\n",
    "    score = response.binary_score\n",
    "\n",
    "    if score == \"yes\":\n",
    "        return \"generate_answer\"\n",
    "    else:\n",
    "        return \"rewrite_question\""
   ]
  },
  {
   "cell_type": "code",
   "execution_count": 95,
   "id": "3546d725",
   "metadata": {},
   "outputs": [],
   "source": [
    "REWRITE_PROMPT = (\n",
    "    \"Look at the input and try to reason about the underlying semantic intent / meaning.\\n\"\n",
    "    \"Here is the initial question:\"\n",
    "    \"\\n ------- \\n\"\n",
    "    \"{question}\"\n",
    "    \"\\n ------- \\n\"\n",
    "    \"Formulate an improved question:\"\n",
    ")\n",
    "\n",
    "\n",
    "def rewrite_question(state: MessagesState):\n",
    "    \"\"\"Rewrite the original user question.\"\"\"\n",
    "    messages = state[\"messages\"]\n",
    "    question = messages[0].content\n",
    "    prompt = REWRITE_PROMPT.format(question=question)\n",
    "    response = response_model.invoke([{\"role\": \"user\", \"content\": prompt}])\n",
    "    return {\"messages\": [{\"role\": \"user\", \"content\": response.content}]}"
   ]
  },
  {
   "cell_type": "code",
   "execution_count": 96,
   "id": "d754c649",
   "metadata": {},
   "outputs": [],
   "source": [
    "GENERATE_PROMPT = (\n",
    "    \"You are an assistant for question-answering tasks. \"\n",
    "    \"Use the following pieces of retrieved context to answer the question. \"\n",
    "    \"If you don't know the answer, just say that you don't know. \"\n",
    "    \"Use three sentences maximum and keep the answer concise.\\n\"\n",
    "    \"Question: {question} \\n\"\n",
    "    \"Context: {context}\"\n",
    ")\n",
    "\n",
    "\n",
    "def generate_answer(state: MessagesState):\n",
    "    \"\"\"Generate an answer.\"\"\"\n",
    "    question = state[\"messages\"][0].content\n",
    "    context = state[\"messages\"][-1].content\n",
    "    prompt = GENERATE_PROMPT.format(question=question, context=context)\n",
    "    response = response_model.invoke([{\"role\": \"user\", \"content\": prompt}])\n",
    "    return {\"messages\": [response]}"
   ]
  },
  {
   "cell_type": "code",
   "execution_count": 97,
   "id": "c7ff9942",
   "metadata": {},
   "outputs": [],
   "source": [
    "class State(TypedDict):\n",
    "    llm_output: str\n",
    "    decision: str\n",
    "\n",
    "\n",
    "# Human approval node\n",
    "def human_approval(state: MessagesState) -> Command[Literal[\"approved_path\", \"rejected_path\"]]:\n",
    "    decision = interrupt({\n",
    "        \"question\": \"Essa resposta foi útil?\",\n",
    "        \"message\": state['messages'][-1]\n",
    "    })\n",
    "\n",
    "    if decision == \"approve\":\n",
    "        return Command(goto=\"approved_path\", update={\"decision\": \"approved\"})\n",
    "    else:\n",
    "        return Command(goto=\"rejected_path\", update={\"decision\": \"rejected\"})\n",
    "\n",
    "# Next steps after approval\n",
    "def approved_node(state: State) -> State:\n",
    "    print(\"✅ Usuário aprovou a resposta!\")\n",
    "    return state\n",
    "\n",
    "# Alternative path after rejection\n",
    "def rejected_node(state: State) -> State:\n",
    "    print(\"❌ Procure um assistente\")\n",
    "    return state"
   ]
  },
  {
   "cell_type": "code",
   "execution_count": 98,
   "id": "2d9f697c",
   "metadata": {},
   "outputs": [],
   "source": [
    "from langgraph.checkpoint.memory import InMemorySaver\n",
    "\n",
    "checkpointer = InMemorySaver()"
   ]
  },
  {
   "cell_type": "code",
   "execution_count": 144,
   "id": "ab65a4c8",
   "metadata": {},
   "outputs": [],
   "source": [
    "from langgraph.graph import StateGraph, START, END\n",
    "from langgraph.prebuilt import ToolNode\n",
    "from langgraph.prebuilt import tools_condition\n",
    "\n",
    "workflow = StateGraph(MessagesState)\n",
    "\n",
    "# Define the nodes we will cycle between\n",
    "workflow.add_node(generate_query_or_respond)\n",
    "workflow.add_node(\"retrieve\", ToolNode([retriever_tool]))\n",
    "workflow.add_node(rewrite_question)\n",
    "workflow.add_node(generate_answer)\n",
    "\n",
    "workflow.add_edge(START, \"generate_query_or_respond\")\n",
    "\n",
    "# Decide whether to retrieve\n",
    "workflow.add_conditional_edges(\n",
    "    \"generate_query_or_respond\",\n",
    "    # Assess LLM decision (call `retriever_tool` tool or respond to the user)\n",
    "    tools_condition,\n",
    "    {\n",
    "        # Translate the condition outputs to nodes in our graph\n",
    "        \"tools\": \"retrieve\",\n",
    "        END: END,\n",
    "    },\n",
    ")\n",
    "\n",
    "# Edges taken after the `action` node is called.\n",
    "workflow.add_conditional_edges(\n",
    "    \"retrieve\",\n",
    "    # Assess agent decision\n",
    "    grade_documents,\n",
    ")\n",
    "\n",
    "workflow.add_edge(\"rewrite_question\", \"generate_query_or_respond\")\n",
    "\n",
    "# Compile\n",
    "subgraph = workflow.compile(checkpointer=checkpointer)"
   ]
  },
  {
   "cell_type": "code",
   "execution_count": 145,
   "id": "623dd70b",
   "metadata": {},
   "outputs": [
    {
     "data": {
      "image/png": "[encoded data removed]",
      "text/plain": [
       "<IPython.core.display.Image object>"
      ]
     },
     "metadata": {},
     "output_type": "display_data"
    }
   ],
   "source": [
    "from IPython.display import Image, display\n",
    "\n",
    "display(Image(subgraph.get_graph().draw_mermaid_png()))"
   ]
  },
  {
   "cell_type": "code",
   "execution_count": 74,
   "id": "8cc883ce",
   "metadata": {},
   "outputs": [],
   "source": [
    "# for chunk in graph.stream(\n",
    "#     {\n",
    "#         \"messages\": [\n",
    "#             {\n",
    "#                 \"role\": \"user\",\n",
    "#                 \"content\": \"Como achar produtos na Hotmart?\",\n",
    "#             }\n",
    "#         ]\n",
    "#     }\n",
    "# ):\n",
    "#     for node, update in chunk.items():\n",
    "#         print(\"Update from node\", node)\n",
    "#         update[\"messages\"][-1].pretty_print()\n",
    "#         print(\"\\n\\n\")"
   ]
  },
  {
   "cell_type": "code",
   "execution_count": 103,
   "id": "dda05ea9",
   "metadata": {},
   "outputs": [],
   "source": [
    "config = {\"configurable\": {\"thread_id\": uuid.uuid4()}}\n",
    "result = subgraph.invoke({\n",
    "        \"messages\": [\n",
    "            {\n",
    "                \"role\": \"user\",\n",
    "                \"content\": \"Como achar produtos na Hotmart?\",\n",
    "            }\n",
    "        ]\n",
    "    }, config=config)"
   ]
  },
  {
   "cell_type": "code",
   "execution_count": 104,
   "id": "9c23de09",
   "metadata": {},
   "outputs": [
    {
     "name": "stdout",
     "output_type": "stream",
     "text": [
      "[Interrupt(value={'question': 'Essa resposta foi útil?', 'message': AIMessage(content='Para achar produtos na Hotmart, acesse o Mercado da Hotmart e utilize a barra de busca para pesquisar pelo nome, nicho ou palavra-chave do produto desejado. Você também pode filtrar os resultados por categoria ou popularidade. Assim, encontrará diversas opções disponíveis para promover ou comprar.', additional_kwargs={'refusal': None}, response_metadata={'token_usage': {'completion_tokens': 59, 'prompt_tokens': 97, 'total_tokens': 156, 'completion_tokens_details': {'accepted_prediction_tokens': 0, 'audio_tokens': 0, 'reasoning_tokens': 0, 'rejected_prediction_tokens': 0}, 'prompt_tokens_details': {'audio_tokens': 0, 'cached_tokens': 0}}, 'model_name': 'gpt-4.1-2025-04-14', 'system_fingerprint': None, 'id': 'chatcmpl-Bv7p9vqzuYzwNG5YMjy6gkqOa9faV', 'service_tier': 'default', 'finish_reason': 'stop', 'logprobs': None}, id='run--a22d4c66-bf89-4c1f-afac-15d2738c2fbd-0', usage_metadata={'input_tokens': 97, 'output_tokens': 59, 'total_tokens': 156, 'input_token_details': {'audio': 0, 'cache_read': 0}, 'output_token_details': {'audio': 0, 'reasoning': 0}})}, resumable=True, ns=['human_approval:af1fa1f8-84ce-9798-d440-169e588b1850'])]\n"
     ]
    }
   ],
   "source": [
    "print(result[\"__interrupt__\"])"
   ]
  },
  {
   "cell_type": "code",
   "execution_count": 106,
   "id": "66d83322",
   "metadata": {},
   "outputs": [
    {
     "name": "stdout",
     "output_type": "stream",
     "text": [
      "❌ Procure um assistente\n",
      "{'messages': [HumanMessage(content='Como achar produtos na Hotmart?', additional_kwargs={}, response_metadata={}, id='91060f36-e492-4de7-b441-0ab7c0a39792'), AIMessage(content='', additional_kwargs={'tool_calls': [{'id': 'call_jemZBE5a32vmDnDnPRaR8N5K', 'function': {'arguments': '{\"query\":\"como encontrar produtos na Hotmart\"}', 'name': 'retrieve_faq_articles'}, 'type': 'function'}], 'refusal': None}, response_metadata={'token_usage': {'completion_tokens': 21, 'prompt_tokens': 64, 'total_tokens': 85, 'completion_tokens_details': {'accepted_prediction_tokens': 0, 'audio_tokens': 0, 'reasoning_tokens': 0, 'rejected_prediction_tokens': 0}, 'prompt_tokens_details': {'audio_tokens': 0, 'cached_tokens': 0}}, 'model_name': 'gpt-4.1-2025-04-14', 'system_fingerprint': None, 'id': 'chatcmpl-Bv7p7bx00h8nJUMvjjHBUIkqYcrW4', 'service_tier': 'default', 'finish_reason': 'tool_calls', 'logprobs': None}, id='run--134241b7-b82b-4255-baad-2e0cfae27c40-0', tool_calls=[{'name': 'retrieve_faq_articles', 'args': {'query': 'como encontrar produtos na Hotmart'}, 'id': 'call_jemZBE5a32vmDnDnPRaR8N5K', 'type': 'tool_call'}], usage_metadata={'input_tokens': 64, 'output_tokens': 21, 'total_tokens': 85, 'input_token_details': {'audio': 0, 'cache_read': 0}, 'output_token_details': {'audio': 0, 'reasoning': 0}}), ToolMessage(content='Busca de produto Hotmart\\n\\nComo pesquisar produtos no Mercado da Hotmart?\\n\\nComo comprar um produto pela Hotmart?\\n\\nComo configurar a Página de Produto da Hotmart', name='retrieve_faq_articles', id='de6b209e-d383-4d0f-ae23-c606f80f3e2c', tool_call_id='call_jemZBE5a32vmDnDnPRaR8N5K'), AIMessage(content='Para achar produtos na Hotmart, acesse o Mercado da Hotmart e utilize a barra de busca para pesquisar pelo nome, nicho ou palavra-chave do produto desejado. Você também pode filtrar os resultados por categoria ou popularidade. Assim, encontrará diversas opções disponíveis para promover ou comprar.', additional_kwargs={'refusal': None}, response_metadata={'token_usage': {'completion_tokens': 59, 'prompt_tokens': 97, 'total_tokens': 156, 'completion_tokens_details': {'accepted_prediction_tokens': 0, 'audio_tokens': 0, 'reasoning_tokens': 0, 'rejected_prediction_tokens': 0}, 'prompt_tokens_details': {'audio_tokens': 0, 'cached_tokens': 0}}, 'model_name': 'gpt-4.1-2025-04-14', 'system_fingerprint': None, 'id': 'chatcmpl-Bv7p9vqzuYzwNG5YMjy6gkqOa9faV', 'service_tier': 'default', 'finish_reason': 'stop', 'logprobs': None}, id='run--a22d4c66-bf89-4c1f-afac-15d2738c2fbd-0', usage_metadata={'input_tokens': 97, 'output_tokens': 59, 'total_tokens': 156, 'input_token_details': {'audio': 0, 'cache_read': 0}, 'output_token_details': {'audio': 0, 'reasoning': 0}})]}\n"
     ]
    }
   ],
   "source": [
    "final_result = subgraph.invoke(Command(resume=\"reject\"), config=config)\n",
    "print(final_result)"
   ]
  },
  {
   "cell_type": "code",
   "execution_count": 107,
   "id": "180f54d6",
   "metadata": {},
   "outputs": [
    {
     "data": {
      "text/plain": [
       "AIMessage(content='Para achar produtos na Hotmart, acesse o Mercado da Hotmart e utilize a barra de busca para pesquisar pelo nome, nicho ou palavra-chave do produto desejado. Você também pode filtrar os resultados por categoria ou popularidade. Assim, encontrará diversas opções disponíveis para promover ou comprar.', additional_kwargs={'refusal': None}, response_metadata={'token_usage': {'completion_tokens': 59, 'prompt_tokens': 97, 'total_tokens': 156, 'completion_tokens_details': {'accepted_prediction_tokens': 0, 'audio_tokens': 0, 'reasoning_tokens': 0, 'rejected_prediction_tokens': 0}, 'prompt_tokens_details': {'audio_tokens': 0, 'cached_tokens': 0}}, 'model_name': 'gpt-4.1-2025-04-14', 'system_fingerprint': None, 'id': 'chatcmpl-Bv7p9vqzuYzwNG5YMjy6gkqOa9faV', 'service_tier': 'default', 'finish_reason': 'stop', 'logprobs': None}, id='run--a22d4c66-bf89-4c1f-afac-15d2738c2fbd-0', usage_metadata={'input_tokens': 97, 'output_tokens': 59, 'total_tokens': 156, 'input_token_details': {'audio': 0, 'cache_read': 0}, 'output_token_details': {'audio': 0, 'reasoning': 0}})"
      ]
     },
     "execution_count": 107,
     "metadata": {},
     "output_type": "execute_result"
    }
   ],
   "source": [
    "final_result['messages'][-1]"
   ]
  },
  {
   "cell_type": "code",
   "execution_count": 135,
   "id": "1064ecda",
   "metadata": {},
   "outputs": [],
   "source": [
    "class State(TypedDict):\n",
    "    llm_output: str\n",
    "    decision: str\n",
    "\n",
    "\n",
    "# Human approval node\n",
    "def human_approval(state: MessagesState) -> Command[Literal[\"approved_path\", \"rejected_path\"]]:\n",
    "    decision = interrupt({\n",
    "        \"question\": \"Essa resposta foi útil?\",\n",
    "        \"message\": state['messages'][-1]\n",
    "    })\n",
    "\n",
    "    if decision == \"approve\":\n",
    "        return Command(goto=\"approved_path\", update={\"decision\": \"approved\"})\n",
    "    else:\n",
    "        return Command(goto=\"rejected_path\", update={\"decision\": \"rejected\"})\n",
    "\n",
    "# Next steps after approval\n",
    "def approved_node(state: State) -> State:\n",
    "    print(\"✅ Usuário aprovou a resposta!\")\n",
    "    return state\n",
    "\n",
    "# Alternative path after rejection\n",
    "def rejected_node(state: State) -> State:\n",
    "    print(\"❌ Procure um assistente\")\n",
    "    return state"
   ]
  },
  {
   "cell_type": "code",
   "execution_count": 136,
   "id": "64e236bd",
   "metadata": {},
   "outputs": [],
   "source": [
    "QUESTION_GRADE_PROMPT = (\n",
    "    \"You are a grader assessing if a question is related with Hotmart customer support. \\n \"\n",
    "    \"Here is the user question: {question} \\n\"\n",
    "    \"If the question contains keyword(s) or semantic meaning related to Hotmart customer support, grade it as related. \\n\"\n",
    "    \"Give a binary score 'yes' or 'no' score to indicate whether the question is related with customer support or not.\"\n",
    ")\n",
    "\n",
    "\n",
    "class GradeQuestion(BaseModel):\n",
    "    \"\"\"Grade questions using a binary score for customer support related check.\"\"\"\n",
    "\n",
    "    binary_score: str = Field(\n",
    "        description=\"Relevance score: 'yes' if related, or 'no' if not related\"\n",
    "    )\n",
    "\n",
    "\n",
    "def grade_questions(\n",
    "    state: MessagesState,\n",
    ") -> Literal[\"agentic_rag\", \"out_of_context_path\"]:\n",
    "    \"\"\"Determine whether the user question is related to Hotmart customer support.\"\"\"\n",
    "    question = state[\"messages\"][0].content\n",
    "\n",
    "    prompt = QUESTION_GRADE_PROMPT.format(question=question)\n",
    "    response = (\n",
    "        grader_model\n",
    "        .with_structured_output(GradeQuestion).invoke(\n",
    "            [{\"role\": \"user\", \"content\": prompt}]\n",
    "        )\n",
    "    )\n",
    "    score = response.binary_score\n",
    "    print(score)\n",
    "\n",
    "    return \"agentic_rag\" if score.lower() == \"yes\" else \"out_of_context_path\"\n",
    "    \n",
    "def out_of_context_node(state: MessagesState) -> MessagesState:\n",
    "    print(\"❌ Apenas posso responder a perguntas referentes à Hotmart\")\n",
    "    return state\n",
    "\n",
    "def call_subgraph(state: MessagesState):\n",
    "    config = {\"configurable\": {\"thread_id\": uuid.uuid4()}}\n",
    "    response = subgraph.invoke({\n",
    "            \"messages\": state[\"messages\"]\n",
    "        }, config=config)\n",
    "    return {\"messages\": response[\"messages\"]}\n",
    "\n",
    "from typing_extensions import TypedDict\n",
    "from langgraph.graph.state import StateGraph, START\n",
    "\n",
    "\n",
    "builder = StateGraph(MessagesState)\n",
    "builder.add_node(\"supervisor\", supervisor_node)\n",
    "builder.add_node(\"agentic_rag\", call_subgraph)\n",
    "builder.add_node(\"out_of_context_path\", out_of_context_node)\n",
    "builder.add_node(human_approval)\n",
    "builder.add_node(\"approved_path\", approved_node)\n",
    "builder.add_node(\"rejected_path\", rejected_node)\n",
    "\n",
    "\n",
    "builder.add_edge(START, \"supervisor\")\n",
    "builder.add_conditional_edges(\n",
    "    \"supervisor\",\n",
    "    # Assess agent decision\n",
    "    grade_questions,\n",
    ")\n",
    "builder.add_edge(\"agentic_rag\", \"human_approval\")\n",
    "builder.add_edge(\"approved_path\", END)\n",
    "builder.add_edge(\"rejected_path\", END)\n",
    "builder.add_edge(\"out_of_context_path\", END)\n",
    "\n",
    "\n",
    "graph = builder.compile()"
   ]
  },
  {
   "cell_type": "code",
   "execution_count": 137,
   "id": "afc7c004",
   "metadata": {},
   "outputs": [
    {
     "data": {
      "image/png": "[encoded data removed]",
      "text/plain": [
       "<IPython.core.display.Image object>"
      ]
     },
     "metadata": {},
     "output_type": "display_data"
    }
   ],
   "source": [
    "from IPython.display import Image, display\n",
    "\n",
    "display(Image(graph.get_graph().draw_mermaid_png()))"
   ]
  },
  {
   "cell_type": "code",
   "execution_count": 138,
   "id": "c002f453",
   "metadata": {},
   "outputs": [
    {
     "name": "stdout",
     "output_type": "stream",
     "text": [
      "yes\n"
     ]
    }
   ],
   "source": [
    "config = {\"configurable\": {\"thread_id\": uuid.uuid4()}}\n",
    "result = graph.invoke({\n",
    "    \"messages\": [\n",
    "        {\n",
    "            \"role\": \"user\",\n",
    "            \"content\": \"Como usar o Recuperador Automático de Vendas?\",\n",
    "        }\n",
    "    ]\n",
    "}, config=config)"
   ]
  },
  {
   "cell_type": "code",
   "execution_count": 142,
   "id": "4fc318c4",
   "metadata": {},
   "outputs": [
    {
     "data": {
      "text/plain": [
       "'Para usar o Recuperador Automático de Vendas, acesse a ferramenta na sua plataforma e escolha o tipo de recuperação desejada (assinatura, boleto, PIX parcelado ou pagamento híbrido). Configure as regras e mensagens automáticas que serão enviadas aos clientes para incentivar a finalização da compra. Salve as configurações e ative o recuperador para que ele funcione automaticamente conforme definido.'"
      ]
     },
     "execution_count": 142,
     "metadata": {},
     "output_type": "execute_result"
    }
   ],
   "source": [
    "result['messages'][-1].content.strip()"
   ]
  },
  {
   "cell_type": "code",
   "execution_count": 143,
   "id": "59366c15",
   "metadata": {},
   "outputs": [
    {
     "name": "stdout",
     "output_type": "stream",
     "text": [
      "[Interrupt(value={'question': 'Essa resposta foi útil?', 'message': AIMessage(content='Para usar o Recuperador Automático de Vendas, acesse a ferramenta na sua plataforma e escolha o tipo de recuperação desejada (assinatura, boleto, PIX parcelado ou pagamento híbrido). Configure as regras e mensagens automáticas que serão enviadas aos clientes para incentivar a finalização da compra. Salve as configurações e ative o recuperador para que ele funcione automaticamente conforme definido.', additional_kwargs={'refusal': None}, response_metadata={'token_usage': {'completion_tokens': 81, 'prompt_tokens': 127, 'total_tokens': 208, 'completion_tokens_details': {'accepted_prediction_tokens': 0, 'audio_tokens': 0, 'reasoning_tokens': 0, 'rejected_prediction_tokens': 0}, 'prompt_tokens_details': {'audio_tokens': 0, 'cached_tokens': 0}}, 'model_name': 'gpt-4.1-2025-04-14', 'system_fingerprint': None, 'id': 'chatcmpl-Bv8H86i5YyJWpQ8tVAANIf16Q5k0F', 'service_tier': 'default', 'finish_reason': 'stop', 'logprobs': None}, id='run--ae3688cd-eaa0-4861-9c75-c344f2f5161f-0', usage_metadata={'input_tokens': 127, 'output_tokens': 81, 'total_tokens': 208, 'input_token_details': {'audio': 0, 'cache_read': 0}, 'output_token_details': {'audio': 0, 'reasoning': 0}})}, resumable=True, ns=['human_approval:650865c1-eee0-4bc4-0ae3-be94f98ef535'])]\n"
     ]
    }
   ],
   "source": [
    "print(result[\"__interrupt__\"])"
   ]
  },
  {
   "cell_type": "code",
   "execution_count": null,
   "id": "aac06473",
   "metadata": {},
   "outputs": [],
   "source": []
  }
 ],
 "metadata": {
  "kernelspec": {
   "display_name": "hotmart-challenge",
   "language": "python",
   "name": "python3"
  },
  "language_info": {
   "codemirror_mode": {
    "name": "ipython",
    "version": 3
   },
   "file_extension": ".py",
   "mimetype": "text/x-python",
   "name": "python",
   "nbconvert_exporter": "python",
   "pygments_lexer": "ipython3",
   "version": "3.12.3"
  }
 },
 "nbformat": 4,
 "nbformat_minor": 5
}
